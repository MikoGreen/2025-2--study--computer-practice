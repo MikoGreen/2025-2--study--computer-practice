{
 "cells": [
  {
   "cell_type": "code",
   "execution_count": 4,
   "id": "d4332c77",
   "metadata": {},
   "outputs": [
    {
     "data": {
      "text/plain": [
       "2025-09-13"
      ]
     },
     "execution_count": 4,
     "metadata": {},
     "output_type": "execute_result"
    }
   ],
   "source": [
    "using Dates\n",
    "\n",
    "Dates.today()"
   ]
  },
  {
   "cell_type": "code",
   "execution_count": 2,
   "id": "67849b3e",
   "metadata": {},
   "outputs": [
    {
     "name": "stdout",
     "output_type": "stream",
     "text": [
      "rogozhina\\home\r\n"
     ]
    }
   ],
   "source": [
    ";whoami"
   ]
  },
  {
   "cell_type": "markdown",
   "id": "4cf7eafe",
   "metadata": {},
   "source": [
    "1. Изучите документацию по основным функциям Julia для чтения / записи / вывода информации на экран: \n",
    "\n",
    "- [x] `read()`, \n",
    "- [x] `readline()`, \n",
    "- [x] `readlines()`, \n",
    "- [x] `readdlm()`, \n",
    "- [x] `print()`, \n",
    "- [x] `println()`, \n",
    "- [x] `show()`, \n",
    "- [x] `write()`. \n",
    "\n",
    "Приведите свои примеры их использования, поясняя особенности их применения."
   ]
  },
  {
   "cell_type": "code",
   "execution_count": 18,
   "id": "df5933e4",
   "metadata": {},
   "outputs": [],
   "source": [
    "io = IOBuffer(\"JuliaLang is a GitHub organization\");"
   ]
  },
  {
   "cell_type": "code",
   "execution_count": 15,
   "id": "778e0e75",
   "metadata": {},
   "outputs": [
    {
     "data": {
      "text/plain": [
       "\"JuliaLang is a GitHub organization\""
      ]
     },
     "execution_count": 15,
     "metadata": {},
     "output_type": "execute_result"
    }
   ],
   "source": [
    "read(io, String)"
   ]
  },
  {
   "cell_type": "code",
   "execution_count": 24,
   "id": "7a227b5c",
   "metadata": {},
   "outputs": [],
   "source": [
    "io = IOBuffer(\"JuliaLang is a GitHub organization\");"
   ]
  },
  {
   "cell_type": "code",
   "execution_count": 36,
   "id": "ea040a3d",
   "metadata": {},
   "outputs": [
    {
     "data": {
      "text/plain": [
       "\"C:/Users/Home/Documents/РУДН/Компьютерный практикум по стохастическому анализу/lab1/myfile.txt\""
      ]
     },
     "execution_count": 36,
     "metadata": {},
     "output_type": "execute_result"
    }
   ],
   "source": [
    "path = \"C:/Users/Home/Documents/РУДН/Компьютерный практикум по стохастическому анализу/lab1/myfile.txt\""
   ]
  },
  {
   "cell_type": "code",
   "execution_count": 19,
   "id": "a8e4e6be",
   "metadata": {},
   "outputs": [
    {
     "data": {
      "text/plain": [
       "'J': ASCII/Unicode U+004A (category Lu: Letter, uppercase)"
      ]
     },
     "execution_count": 19,
     "metadata": {},
     "output_type": "execute_result"
    }
   ],
   "source": [
    "read(io, Char)"
   ]
  },
  {
   "cell_type": "code",
   "execution_count": 37,
   "id": "ae15e1d0",
   "metadata": {},
   "outputs": [
    {
     "data": {
      "text/plain": [
       "\"12345678\""
      ]
     },
     "execution_count": 37,
     "metadata": {},
     "output_type": "execute_result"
    }
   ],
   "source": [
    "read(path, String)"
   ]
  },
  {
   "cell_type": "code",
   "execution_count": 38,
   "id": "8a0f303c",
   "metadata": {},
   "outputs": [
    {
     "data": {
      "text/plain": [
       "8-element Vector{UInt8}:\n",
       " 0x31\n",
       " 0x32\n",
       " 0x33\n",
       " 0x34\n",
       " 0x35\n",
       " 0x36\n",
       " 0x37\n",
       " 0x38"
      ]
     },
     "execution_count": 38,
     "metadata": {},
     "output_type": "execute_result"
    }
   ],
   "source": [
    "read(path)"
   ]
  },
  {
   "cell_type": "code",
   "execution_count": 39,
   "id": "c548b275",
   "metadata": {},
   "outputs": [
    {
     "data": {
      "text/plain": [
       "5-element Vector{UInt8}:\n",
       " 0x31\n",
       " 0x32\n",
       " 0x33\n",
       " 0x34\n",
       " 0x35"
      ]
     },
     "execution_count": 39,
     "metadata": {},
     "output_type": "execute_result"
    }
   ],
   "source": [
    "file = open(path, \"r\");  \n",
    "bytes = read(file, 5)  "
   ]
  },
  {
   "cell_type": "code",
   "execution_count": 40,
   "id": "673b6bfe",
   "metadata": {},
   "outputs": [],
   "source": [
    "write(\"my_file.txt\", \"JuliaLang is a GitHub organization.\\nIt has many members.\\n\");"
   ]
  },
  {
   "cell_type": "code",
   "execution_count": 41,
   "id": "2062e7fb",
   "metadata": {},
   "outputs": [
    {
     "data": {
      "text/plain": [
       "56"
      ]
     },
     "execution_count": 41,
     "metadata": {},
     "output_type": "execute_result"
    }
   ],
   "source": [
    "io = IOBuffer();\n",
    "write(io, \"JuliaLang is a GitHub organization.\", \" It has many members.\")"
   ]
  },
  {
   "cell_type": "code",
   "execution_count": 44,
   "id": "2319a238",
   "metadata": {},
   "outputs": [],
   "source": [
    "write(\"my_file.txt\", \"Фитц — незаконнорождённый сын наследного принца.\\nОн вырос на задворках королевского замка, в шестилетнем возрасте мальчика отдали на воспитание королевскому конюху. \\nВсе относятся к маленькому бастарду как к изгою, и лишь хитрый король Шрюд, узнав о мистических способностях ребёнка, тайно обучает его искусству убийцы.\");"
   ]
  },
  {
   "cell_type": "code",
   "execution_count": 47,
   "id": "5fa552f9",
   "metadata": {},
   "outputs": [
    {
     "data": {
      "text/plain": [
       "\"Фитц — незаконнорождённый сын наследного принца.\""
      ]
     },
     "execution_count": 47,
     "metadata": {},
     "output_type": "execute_result"
    }
   ],
   "source": [
    "readline(\"my_file.txt\")"
   ]
  },
  {
   "cell_type": "code",
   "execution_count": 51,
   "id": "5b9efd8f",
   "metadata": {},
   "outputs": [
    {
     "name": "stdout",
     "output_type": "stream",
     "text": [
      "stdin> Miko green\n"
     ]
    },
    {
     "data": {
      "text/plain": [
       "\"Miko green\""
      ]
     },
     "execution_count": 51,
     "metadata": {},
     "output_type": "execute_result"
    }
   ],
   "source": [
    "your_name = readline()"
   ]
  },
  {
   "cell_type": "code",
   "execution_count": 54,
   "id": "e0dc54ac",
   "metadata": {},
   "outputs": [
    {
     "data": {
      "text/plain": [
       "3-element Vector{String}:\n",
       " \"Фитц — незаконнорождённый сын наследного принца.\"\n",
       " \"Он вырос на задворках королевск\"\u001b[93m\u001b[1m ⋯ 101 bytes ⋯ \u001b[22m\u001b[39m\"спитание королевскому конюху. \"\n",
       " \"Все относятся к маленькому баст\"\u001b[93m\u001b[1m ⋯ 167 bytes ⋯ \u001b[22m\u001b[39m\" обучает его искусству убийцы.\""
      ]
     },
     "execution_count": 54,
     "metadata": {},
     "output_type": "execute_result"
    }
   ],
   "source": [
    "readlines(\"my_file.txt\")"
   ]
  },
  {
   "cell_type": "code",
   "execution_count": 56,
   "id": "a3a0150a",
   "metadata": {},
   "outputs": [],
   "source": [
    "using DelimitedFiles"
   ]
  },
  {
   "cell_type": "code",
   "execution_count": 63,
   "id": "2929e8fe",
   "metadata": {},
   "outputs": [
    {
     "data": {
      "text/plain": [
       "4×2 Matrix{Int64}:\n",
       " 1  2\n",
       " 3  4\n",
       " 5  6\n",
       " 7  8"
      ]
     },
     "execution_count": 63,
     "metadata": {},
     "output_type": "execute_result"
    }
   ],
   "source": [
    "readdlm(\"myfile.txt\", ' ', Int, '\\n')"
   ]
  },
  {
   "cell_type": "code",
   "execution_count": 64,
   "id": "b0ec8583",
   "metadata": {},
   "outputs": [
    {
     "data": {
      "text/plain": [
       "4×2 Matrix{Float64}:\n",
       " 1.0  2.0\n",
       " 3.0  4.0\n",
       " 5.0  6.0\n",
       " 7.0  8.0"
      ]
     },
     "execution_count": 64,
     "metadata": {},
     "output_type": "execute_result"
    }
   ],
   "source": [
    "readdlm(\"myfile.txt\", ' ', Float64, '\\n')"
   ]
  },
  {
   "cell_type": "code",
   "execution_count": 68,
   "id": "dedf8855",
   "metadata": {},
   "outputs": [
    {
     "name": "stdout",
     "output_type": "stream",
     "text": [
      "hello"
     ]
    },
    {
     "data": {
      "text/plain": [
       "\"Hello World!have a good day!\""
      ]
     },
     "execution_count": 68,
     "metadata": {},
     "output_type": "execute_result"
    }
   ],
   "source": [
    "print(\"hello\")\n",
    "io = IOBuffer();\n",
    "print(io, \"Hello\", ' ', :World!)\n",
    "print(io, \"have a good day!\")\n",
    "String(take!(io))"
   ]
  },
  {
   "cell_type": "code",
   "execution_count": 69,
   "id": "256fa0cc",
   "metadata": {},
   "outputs": [
    {
     "name": "stdout",
     "output_type": "stream",
     "text": [
      "hello\n"
     ]
    },
    {
     "data": {
      "text/plain": [
       "\"Hello World!\\nhave a good day!\\n\""
      ]
     },
     "execution_count": 69,
     "metadata": {},
     "output_type": "execute_result"
    }
   ],
   "source": [
    "println(\"hello\")\n",
    "io = IOBuffer();\n",
    "println(io, \"Hello\", ' ', :World!)\n",
    "println(io, \"have a good day!\")\n",
    "String(take!(io))"
   ]
  },
  {
   "cell_type": "code",
   "execution_count": 84,
   "id": "9025883e",
   "metadata": {},
   "outputs": [
    {
     "data": {
      "text/plain": [
       "10 days"
      ]
     },
     "execution_count": 84,
     "metadata": {},
     "output_type": "execute_result"
    }
   ],
   "source": [
    "struct Day\n",
    "  n::Int\n",
    "end\n",
    "\n",
    "Base.show(io::IO, ::MIME\"text/plain\", d::Day) = print(io, d.n, \" days\")\n",
    "\n",
    "Day(10)"
   ]
  },
  {
   "cell_type": "markdown",
   "id": "dcb91650",
   "metadata": {},
   "source": [
    "2. Изучите документацию по функции `parse()`. Приведите свои примеры её использования, поясняя особенности её применения."
   ]
  },
  {
   "cell_type": "code",
   "execution_count": 85,
   "id": "3423070d",
   "metadata": {},
   "outputs": [
    {
     "data": {
      "text/plain": [
       "24082001"
      ]
     },
     "execution_count": 85,
     "metadata": {},
     "output_type": "execute_result"
    }
   ],
   "source": [
    "parse(Int, \"24082001\", base=10)"
   ]
  },
  {
   "cell_type": "code",
   "execution_count": 86,
   "id": "d8291ef3",
   "metadata": {},
   "outputs": [
    {
     "data": {
      "text/plain": [
       "604512257"
      ]
     },
     "execution_count": 86,
     "metadata": {},
     "output_type": "execute_result"
    }
   ],
   "source": [
    "parse(Int, \"24082001\", base=16)"
   ]
  },
  {
   "cell_type": "code",
   "execution_count": 91,
   "id": "c6f6a23c",
   "metadata": {},
   "outputs": [
    {
     "ename": "LoadError",
     "evalue": "ArgumentError: invalid base 10 digit 'a' in \"abc\"",
     "output_type": "error",
     "traceback": [
      "ArgumentError: invalid base 10 digit 'a' in \"abc\"",
      "",
      "Stacktrace:",
      " [1] tryparse_internal(::Type{Int64}, s::String, startpos::Int64, endpos::Int64, base_::Int64, raise::Bool)",
      "   @ Base .\\parse.jl:143",
      " [2] parse(::Type{Int64}, s::String; base::Int64)",
      "   @ Base .\\parse.jl:254",
      " [3] top-level scope",
      "   @ In[91]:1"
     ]
    }
   ],
   "source": [
    "parse(Int, \"abc\", base=10)"
   ]
  },
  {
   "cell_type": "code",
   "execution_count": 92,
   "id": "559ccef7",
   "metadata": {},
   "outputs": [
    {
     "data": {
      "text/plain": [
       "2748"
      ]
     },
     "execution_count": 92,
     "metadata": {},
     "output_type": "execute_result"
    }
   ],
   "source": [
    "parse(Int, \"abc\", base=16)"
   ]
  },
  {
   "cell_type": "markdown",
   "id": "86b7bc7c",
   "metadata": {},
   "source": [
    "3. Изучите синтаксис Julia для базовых математических операций с разным типом переменных: сложение, вычитание, умножение, деление, возведение в степень, извлечение корня, сравнение, логические операции. Приведите свои примеры с пояснениями по особенностям их применения."
   ]
  },
  {
   "cell_type": "code",
   "execution_count": 93,
   "id": "d8851296",
   "metadata": {},
   "outputs": [
    {
     "data": {
      "text/plain": [
       "48"
      ]
     },
     "execution_count": 93,
     "metadata": {},
     "output_type": "execute_result"
    }
   ],
   "source": [
    "a = 5\n",
    "b = 48"
   ]
  },
  {
   "cell_type": "code",
   "execution_count": 94,
   "id": "bd502868",
   "metadata": {},
   "outputs": [
    {
     "data": {
      "text/plain": [
       "53"
      ]
     },
     "execution_count": 94,
     "metadata": {},
     "output_type": "execute_result"
    }
   ],
   "source": [
    "a+b"
   ]
  },
  {
   "cell_type": "code",
   "execution_count": 95,
   "id": "2e35c85b",
   "metadata": {},
   "outputs": [
    {
     "data": {
      "text/plain": [
       "-43"
      ]
     },
     "execution_count": 95,
     "metadata": {},
     "output_type": "execute_result"
    }
   ],
   "source": [
    "a-b"
   ]
  },
  {
   "cell_type": "code",
   "execution_count": 96,
   "id": "d49d5a7e",
   "metadata": {},
   "outputs": [
    {
     "data": {
      "text/plain": [
       "240"
      ]
     },
     "execution_count": 96,
     "metadata": {},
     "output_type": "execute_result"
    }
   ],
   "source": [
    "a*b"
   ]
  },
  {
   "cell_type": "code",
   "execution_count": 97,
   "id": "e3913623",
   "metadata": {},
   "outputs": [
    {
     "data": {
      "text/plain": [
       "0.10416666666666667"
      ]
     },
     "execution_count": 97,
     "metadata": {},
     "output_type": "execute_result"
    }
   ],
   "source": [
    "a/b"
   ]
  },
  {
   "cell_type": "code",
   "execution_count": 100,
   "id": "94ab18c8",
   "metadata": {},
   "outputs": [
    {
     "data": {
      "text/plain": [
       "254803968"
      ]
     },
     "execution_count": 100,
     "metadata": {},
     "output_type": "execute_result"
    }
   ],
   "source": [
    "b^a"
   ]
  },
  {
   "cell_type": "code",
   "execution_count": 101,
   "id": "ce99ad2b",
   "metadata": {},
   "outputs": [
    {
     "data": {
      "text/plain": [
       "6.928203230275509"
      ]
     },
     "execution_count": 101,
     "metadata": {},
     "output_type": "execute_result"
    }
   ],
   "source": [
    "sqrt(b)"
   ]
  },
  {
   "cell_type": "code",
   "execution_count": 102,
   "id": "ef9988d8",
   "metadata": {},
   "outputs": [
    {
     "data": {
      "text/plain": [
       "false"
      ]
     },
     "execution_count": 102,
     "metadata": {},
     "output_type": "execute_result"
    }
   ],
   "source": [
    "a==b"
   ]
  },
  {
   "cell_type": "code",
   "execution_count": 103,
   "id": "7c33babf",
   "metadata": {},
   "outputs": [
    {
     "data": {
      "text/plain": [
       "true"
      ]
     },
     "execution_count": 103,
     "metadata": {},
     "output_type": "execute_result"
    }
   ],
   "source": [
    "a<=b"
   ]
  },
  {
   "cell_type": "markdown",
   "id": "e8537c4b",
   "metadata": {},
   "source": [
    "4. Приведите несколько своих примеров с пояснениями с операциями над матрицами и векторами: сложение, вычитание, скалярное произведение, транспонирование, умножение на скаляр."
   ]
  },
  {
   "cell_type": "code",
   "execution_count": 108,
   "id": "62ab5012",
   "metadata": {},
   "outputs": [
    {
     "data": {
      "text/plain": [
       "8"
      ]
     },
     "execution_count": 108,
     "metadata": {},
     "output_type": "execute_result"
    }
   ],
   "source": [
    "a = 1\n",
    "b = 2\n",
    "c = 3\n",
    "d = 4\n",
    "e = 5\n",
    "f = 6\n",
    "h = 7\n",
    "i = 8"
   ]
  },
  {
   "cell_type": "code",
   "execution_count": 109,
   "id": "c75d6305",
   "metadata": {},
   "outputs": [
    {
     "data": {
      "text/plain": [
       "4×2 Matrix{Int64}:\n",
       " 1  2\n",
       " 3  4\n",
       " 5  6\n",
       " 7  8"
      ]
     },
     "execution_count": 109,
     "metadata": {},
     "output_type": "execute_result"
    }
   ],
   "source": [
    "A = [a b; c d; e f; h i]"
   ]
  },
  {
   "cell_type": "code",
   "execution_count": 114,
   "id": "6bb0d662",
   "metadata": {},
   "outputs": [
    {
     "data": {
      "text/plain": [
       "6"
      ]
     },
     "execution_count": 114,
     "metadata": {},
     "output_type": "execute_result"
    }
   ],
   "source": [
    "A[3,2]"
   ]
  },
  {
   "cell_type": "code",
   "execution_count": 115,
   "id": "cfe5bacf",
   "metadata": {},
   "outputs": [
    {
     "data": {
      "text/plain": [
       "4×2 Matrix{Int64}:\n",
       "  5  10\n",
       " 15  20\n",
       " 25  30\n",
       " 35  40"
      ]
     },
     "execution_count": 115,
     "metadata": {},
     "output_type": "execute_result"
    }
   ],
   "source": [
    "A*5"
   ]
  },
  {
   "cell_type": "code",
   "execution_count": 116,
   "id": "0cf961af",
   "metadata": {},
   "outputs": [
    {
     "data": {
      "text/plain": [
       "4×2 Matrix{Float64}:\n",
       " 0.5  1.0\n",
       " 1.5  2.0\n",
       " 2.5  3.0\n",
       " 3.5  4.0"
      ]
     },
     "execution_count": 116,
     "metadata": {},
     "output_type": "execute_result"
    }
   ],
   "source": [
    "B = A*0.5"
   ]
  },
  {
   "cell_type": "code",
   "execution_count": 117,
   "id": "4b0b5255",
   "metadata": {},
   "outputs": [
    {
     "data": {
      "text/plain": [
       "4×2 Matrix{Float64}:\n",
       "  4.5   9.0\n",
       " 13.5  18.0\n",
       " 22.5  27.0\n",
       " 31.5  36.0"
      ]
     },
     "execution_count": 117,
     "metadata": {},
     "output_type": "execute_result"
    }
   ],
   "source": [
    "A*5-B"
   ]
  },
  {
   "cell_type": "code",
   "execution_count": 120,
   "id": "6d83fcdb",
   "metadata": {},
   "outputs": [
    {
     "data": {
      "text/plain": [
       "4×4 Matrix{Float64}:\n",
       "  2.5   5.5   8.5  11.5\n",
       "  5.5  12.5  19.5  26.5\n",
       "  8.5  19.5  30.5  41.5\n",
       " 11.5  26.5  41.5  56.5"
      ]
     },
     "execution_count": 120,
     "metadata": {},
     "output_type": "execute_result"
    }
   ],
   "source": [
    "A*B'"
   ]
  },
  {
   "cell_type": "code",
   "execution_count": 121,
   "id": "deb82f90",
   "metadata": {},
   "outputs": [
    {
     "data": {
      "text/plain": [
       "4×2 Matrix{Float64}:\n",
       " 1.0  2.0\n",
       " 3.0  4.0\n",
       " 5.0  6.0\n",
       " 7.0  8.0"
      ]
     },
     "execution_count": 121,
     "metadata": {},
     "output_type": "execute_result"
    }
   ],
   "source": [
    "C = readdlm(\"myfile.txt\", ' ', Float64, '\\n')"
   ]
  },
  {
   "cell_type": "code",
   "execution_count": 122,
   "id": "d89fb2b8",
   "metadata": {},
   "outputs": [
    {
     "data": {
      "text/plain": [
       "4×4 Matrix{Float64}:\n",
       "  2.5   5.5   8.5  11.5\n",
       "  5.5  12.5  19.5  26.5\n",
       "  8.5  19.5  30.5  41.5\n",
       " 11.5  26.5  41.5  56.5"
      ]
     },
     "execution_count": 122,
     "metadata": {},
     "output_type": "execute_result"
    }
   ],
   "source": [
    "C*B'"
   ]
  }
 ],
 "metadata": {
  "kernelspec": {
   "display_name": "Julia 1.11.3",
   "language": "julia",
   "name": "julia-1.11"
  },
  "language_info": {
   "file_extension": ".jl",
   "mimetype": "application/julia",
   "name": "julia",
   "version": "1.11.3"
  }
 },
 "nbformat": 4,
 "nbformat_minor": 5
}
